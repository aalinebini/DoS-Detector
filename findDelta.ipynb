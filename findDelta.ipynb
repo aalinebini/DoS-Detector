{
 "cells": [
  {
   "cell_type": "markdown",
   "metadata": {},
   "source": [
    "# Imports"
   ]
  },
  {
   "cell_type": "code",
   "execution_count": 2,
   "metadata": {},
   "outputs": [],
   "source": [
    "# seperação do dataset de forma balanceada \n",
    "from sklearn.svm import SVC\n",
    "from sklearn.naive_bayes import ComplementNB\n",
    "from modules.preprocessing import preprocessing\n",
    "from sklearn.model_selection import StratifiedShuffleSplit, StratifiedKFold, cross_val_score \n",
    "from time import perf_counter\n",
    "import matplotlib.pyplot as plt\n",
    "\n",
    "import pandas as pd"
   ]
  },
  {
   "cell_type": "markdown",
   "metadata": {},
   "source": [
    "# Global variables"
   ]
  },
  {
   "cell_type": "code",
   "execution_count": 2,
   "metadata": {},
   "outputs": [],
   "source": [
    "svm = SVC(class_weight='balanced', gamma='auto')\n",
    "stratified_method = StratifiedKFold(n_splits=5)"
   ]
  },
  {
   "cell_type": "markdown",
   "metadata": {},
   "source": [
    "# Spliting proportionally the whole dataset into a training and testing dataset"
   ]
  },
  {
   "cell_type": "code",
   "execution_count": 3,
   "metadata": {},
   "outputs": [],
   "source": [
    "def spliting_train_test(dataset):\n",
    "    \n",
    "    X = dataset.drop(columns=['y']).values\n",
    "    y = dataset.y\n",
    "    sss = StratifiedShuffleSplit(n_splits=5, test_size=0.2, random_state=42)\n",
    "    sss.get_n_splits(X, y)\n",
    "\n",
    "    for train_index, test_index in sss.split(X, y):\n",
    "        X_train, X_test = X[train_index], X[test_index]\n",
    "        y_train, y_test = y[train_index], y[test_index]\n",
    "        \n",
    "    return X_train, X_test, y_train, y_test"
   ]
  },
  {
   "cell_type": "markdown",
   "metadata": {},
   "source": [
    "# Function to find the delta"
   ]
  },
  {
   "cell_type": "code",
   "execution_count": 4,
   "metadata": {},
   "outputs": [],
   "source": [
    "def find_delta(csv_path):\n",
    "    \n",
    "    # reading the raw dataset\n",
    "    packages = pd.read_csv(csv_path, low_memory=False, index_col=[0])\n",
    "    \n",
    "    # defining the values of delta\n",
    "    deltas = ['1s', '2s', '3s', '4s', '5s']\n",
    "    columns = ['Delta', 'F1 Score (mean)', 'F1 Score (std)', 'Cross Val Output']\n",
    "    results = list()\n",
    "    \n",
    "    for count, delta in enumerate(deltas):\n",
    "        \n",
    "        initial_time = perf_counter()\n",
    "        \n",
    "        porcentage = (count + 1) / len(deltas)\n",
    "        porcentage = round(porcentage * 100, 2)\n",
    "        \n",
    "        print('{}% complete'.format(porcentage))\n",
    "        \n",
    "        # creating preprocessing dataset\n",
    "        dataset = preprocessing(packages, delta)\n",
    "        # spliting proportionally the whole dataset into a training and testing dataset\n",
    "        X_train, _, y_train, _ = spliting_train_test(dataset)\n",
    "        # applying the cross validation with 5 folds, using the metric f1 score\n",
    "        f1_score = cross_val_score(svm, X_train, y_train, scoring='f1', cv=stratified_method, n_jobs=-1)\n",
    "        # the f1 score's mean and std\n",
    "        mean, std = f1_score.mean(), f1_score.std()\n",
    "    \n",
    "        # gathering the results into a tuple\n",
    "        results.append([delta, mean, std, [f1_score]])\n",
    "        \n",
    "        #printing the time\n",
    "        print('Time of delta {}: {}'.format(delta ,perf_counter() - initial_time))\n",
    "        \n",
    "    return pd.DataFrame(results, index=deltas, columns=columns)"
   ]
  },
  {
   "cell_type": "code",
   "execution_count": 5,
   "metadata": {},
   "outputs": [
    {
     "name": "stderr",
     "output_type": "stream",
     "text": [
      "/home/aline/anaconda3/lib/python3.7/site-packages/numpy/lib/arraysetops.py:569: FutureWarning: elementwise comparison failed; returning scalar instead, but in the future will perform elementwise comparison\n",
      "  mask |= (ar1 == a)\n"
     ]
    },
    {
     "name": "stdout",
     "output_type": "stream",
     "text": [
      "20.0% complete\n",
      "Time of delta 1s: 1244.8645551589998\n",
      "40.0% complete\n",
      "Time of delta 2s: 802.1103499849996\n",
      "60.0% complete\n",
      "Time of delta 3s: 639.9170427219997\n",
      "80.0% complete\n",
      "Time of delta 4s: 486.72537159400053\n",
      "100.0% complete\n",
      "Time of delta 5s: 455.5907445359999\n"
     ]
    }
   ],
   "source": [
    "metrics = find_delta('SUEE1_TCP.csv')"
   ]
  },
  {
   "cell_type": "code",
   "execution_count": 16,
   "metadata": {},
   "outputs": [
    {
     "data": {
      "text/html": [
       "<div>\n",
       "<style scoped>\n",
       "    .dataframe tbody tr th:only-of-type {\n",
       "        vertical-align: middle;\n",
       "    }\n",
       "\n",
       "    .dataframe tbody tr th {\n",
       "        vertical-align: top;\n",
       "    }\n",
       "\n",
       "    .dataframe thead th {\n",
       "        text-align: right;\n",
       "    }\n",
       "</style>\n",
       "<table border=\"1\" class=\"dataframe\">\n",
       "  <thead>\n",
       "    <tr style=\"text-align: right;\">\n",
       "      <th></th>\n",
       "      <th>Delta</th>\n",
       "      <th>F1 Score (mean)</th>\n",
       "      <th>F1 Score (std)</th>\n",
       "      <th>Cross Val Output</th>\n",
       "    </tr>\n",
       "  </thead>\n",
       "  <tbody>\n",
       "    <tr>\n",
       "      <th>1s</th>\n",
       "      <td>1s</td>\n",
       "      <td>0.711687</td>\n",
       "      <td>0.004455</td>\n",
       "      <td>[[0.7106325706594886, 0.7178106774338269, 0.70...</td>\n",
       "    </tr>\n",
       "    <tr>\n",
       "      <th>2s</th>\n",
       "      <td>2s</td>\n",
       "      <td>0.682426</td>\n",
       "      <td>0.017056</td>\n",
       "      <td>[[0.674901185770751, 0.6593195975083852, 0.703...</td>\n",
       "    </tr>\n",
       "    <tr>\n",
       "      <th>3s</th>\n",
       "      <td>3s</td>\n",
       "      <td>0.697098</td>\n",
       "      <td>0.005478</td>\n",
       "      <td>[[0.6977708657335406, 0.6895822316234796, 0.69...</td>\n",
       "    </tr>\n",
       "    <tr>\n",
       "      <th>4s</th>\n",
       "      <td>4s</td>\n",
       "      <td>0.692294</td>\n",
       "      <td>0.008688</td>\n",
       "      <td>[[0.6820809248554913, 0.6836027713625865, 0.70...</td>\n",
       "    </tr>\n",
       "    <tr>\n",
       "      <th>5s</th>\n",
       "      <td>5s</td>\n",
       "      <td>0.702818</td>\n",
       "      <td>0.010298</td>\n",
       "      <td>[[0.6948245092207019, 0.6888888888888889, 0.70...</td>\n",
       "    </tr>\n",
       "  </tbody>\n",
       "</table>\n",
       "</div>"
      ],
      "text/plain": [
       "   Delta  F1 Score (mean)  F1 Score (std)  \\\n",
       "1s    1s         0.711687        0.004455   \n",
       "2s    2s         0.682426        0.017056   \n",
       "3s    3s         0.697098        0.005478   \n",
       "4s    4s         0.692294        0.008688   \n",
       "5s    5s         0.702818        0.010298   \n",
       "\n",
       "                                     Cross Val Output  \n",
       "1s  [[0.7106325706594886, 0.7178106774338269, 0.70...  \n",
       "2s  [[0.674901185770751, 0.6593195975083852, 0.703...  \n",
       "3s  [[0.6977708657335406, 0.6895822316234796, 0.69...  \n",
       "4s  [[0.6820809248554913, 0.6836027713625865, 0.70...  \n",
       "5s  [[0.6948245092207019, 0.6888888888888889, 0.70...  "
      ]
     },
     "execution_count": 16,
     "metadata": {},
     "output_type": "execute_result"
    }
   ],
   "source": [
    "metrics"
   ]
  },
  {
   "cell_type": "code",
   "execution_count": 7,
   "metadata": {},
   "outputs": [],
   "source": [
    "metrics.to_csv(\"results_s_final.csv\")"
   ]
  },
  {
   "cell_type": "code",
   "execution_count": null,
   "metadata": {},
   "outputs": [],
   "source": [
    "!cat results.csv"
   ]
  },
  {
   "cell_type": "markdown",
   "metadata": {},
   "source": [
    "# Creating the plot"
   ]
  },
  {
   "cell_type": "code",
   "execution_count": 4,
   "metadata": {},
   "outputs": [
    {
     "data": {
      "image/png": "[encoded data removed]",
      "text/plain": [
       "<Figure size 648x360 with 1 Axes>"
      ]
     },
     "metadata": {
      "needs_background": "light"
     },
     "output_type": "display_data"
    }
   ],
   "source": [
    "plt.figure(figsize=(9, 5))\n",
    "\n",
    "deltas = ['1s', '2s', '3s', '4s', '5s', '20s', '30s']\n",
    "std = [0.004455, 0.017056, 0.005478, 0.005478, 0.010298, 0.012944, 0.013684]\n",
    "\n",
    "#creating the dots\n",
    "\n",
    "plt.errorbar(deltas, [0.711687, 0.682426, 0.697098, 0.692294, 0.702818, 0.632836, 0.567365], std, \n",
    "             linestyle='--', fmt='-o', color='green', uplims=True, lolims=True)\n",
    "plt.ylabel('F1 Score', fontsize=16)\n",
    "plt.xlabel('time', fontsize=16)\n",
    "plt.title('Delta Values', fontsize=20)\n",
    "plt.annotate('best delta', fontsize=14, xy=('1s', 0.70), xytext=('1s', 0.67), arrowprops=dict(facecolor='black', shrink=0.05))\n",
    "\n",
    "plt.savefig(\"deltaValues.svg\")\n",
    "\n",
    "plt.show()"
   ]
  }
 ],
 "metadata": {
  "kernelspec": {
   "display_name": "Python 3",
   "language": "python",
   "name": "python3"
  },
  "language_info": {
   "codemirror_mode": {
    "name": "ipython",
    "version": 3
   },
   "file_extension": ".py",
   "mimetype": "text/x-python",
   "name": "python",
   "nbconvert_exporter": "python",
   "pygments_lexer": "ipython3",
   "version": "3.7.3"
  }
 },
 "nbformat": 4,
 "nbformat_minor": 2
}

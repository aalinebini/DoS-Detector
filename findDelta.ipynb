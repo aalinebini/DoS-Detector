{
 "cells": [
  {
   "cell_type": "markdown",
   "metadata": {},
   "source": [
    "# Imports"
   ]
  },
  {
   "cell_type": "code",
   "execution_count": 1,
   "metadata": {},
   "outputs": [],
   "source": [
    "# seperação do dataset de forma balanceada \n",
    "from sklearn.svm import SVC\n",
    "from sklearn.naive_bayes import ComplementNB\n",
    "from modules.preprocessing import preprocessing\n",
    "from sklearn.model_selection import StratifiedShuffleSplit, StratifiedKFold, cross_val_score \n",
    "\n",
    "import pandas as pd"
   ]
  },
  {
   "cell_type": "markdown",
   "metadata": {},
   "source": [
    "# Global variables"
   ]
  },
  {
   "cell_type": "code",
   "execution_count": 2,
   "metadata": {},
   "outputs": [],
   "source": [
    "svm = SVC(class_weight='balanced', gamma='auto')\n",
    "stratified_method = StratifiedKFold(n_splits=5)"
   ]
  },
  {
   "cell_type": "markdown",
   "metadata": {},
   "source": [
    "# Spliting proportionally the whole dataset into a training and testing dataset"
   ]
  },
  {
   "cell_type": "code",
   "execution_count": 3,
   "metadata": {},
   "outputs": [],
   "source": [
    "def spliting_train_test(dataset):\n",
    "    \n",
    "    X = dataset.drop(columns=['y']).values\n",
    "    y = dataset.y\n",
    "    sss = StratifiedShuffleSplit(n_splits=5, test_size=0.2, random_state=42)\n",
    "    sss.get_n_splits(X, y)\n",
    "\n",
    "    for train_index, test_index in sss.split(X, y):\n",
    "        X_train, X_test = X[train_index], X[test_index]\n",
    "        y_train, y_test = y[train_index], y[test_index]\n",
    "        \n",
    "    return X_train, X_test, y_train, y_test"
   ]
  },
  {
   "cell_type": "markdown",
   "metadata": {},
   "source": [
    "# Function to find the delta"
   ]
  },
  {
   "cell_type": "code",
   "execution_count": 4,
   "metadata": {},
   "outputs": [],
   "source": [
    "def find_delta(csv_path):\n",
    "    \n",
    "    # reading the raw dataset\n",
    "    packages = pd.read_csv(csv_path, low_memory=False, index_col=[0])\n",
    "    \n",
    "    # defining the values of delta\n",
    "    deltas = ['1ms', '10ms', '50ms', '100ms', '300ms', '500ms', '900ms']\n",
    "    columns = ['Delta', 'F1 Score (mean)', 'F1 Score (std)', 'Cross Val Output']\n",
    "    results = list()\n",
    "    \n",
    "    for count, delta in enumerate(deltas):\n",
    "        \n",
    "        porcentage = count + 1 / len(deltas)\n",
    "        porcentage = round(porcentage * 100, 2)\n",
    "        \n",
    "        print('{}% complete'.format(porcentage))\n",
    "        \n",
    "        # creating preprocessing dataset\n",
    "        dataset = preprocessing(packages, delta)\n",
    "        # spliting proportionally the whole dataset into a training and testing dataset\n",
    "        X_train, _, y_train, _ = spliting_train_test(dataset)\n",
    "        # applying the cross validation with 5 folds, using the metric f1 score\n",
    "        f1_score = cross_val_score(svm, X_train, y_train, scoring='f1', cv=stratified_method, n_jobs=-1)\n",
    "        # the f1 score's mean and std\n",
    "        mean, std = f1_score.mean(), f1_score.std()\n",
    "    \n",
    "        # gathering the results into a tuple\n",
    "        results.append([delta, mean, std, [f1_score]])\n",
    "        \n",
    "    return pd.DataFrame(results, index=deltas, columns=columns)"
   ]
  },
  {
   "cell_type": "code",
   "execution_count": 5,
   "metadata": {},
   "outputs": [
    {
     "name": "stderr",
     "output_type": "stream",
     "text": [
      "/home/aline/anaconda3/lib/python3.7/site-packages/numpy/lib/arraysetops.py:569: FutureWarning: elementwise comparison failed; returning scalar instead, but in the future will perform elementwise comparison\n",
      "  mask |= (ar1 == a)\n"
     ]
    },
    {
     "name": "stdout",
     "output_type": "stream",
     "text": [
      "14.29% complete\n",
      "114.29% complete\n",
      "214.29% complete\n",
      "314.29% complete\n",
      "414.29% complete\n",
      "514.29% complete\n",
      "614.29% complete\n"
     ]
    }
   ],
   "source": [
    "metrics = find_delta('SUEE1_TCP.csv')"
   ]
  },
  {
   "cell_type": "code",
   "execution_count": 6,
   "metadata": {},
   "outputs": [
    {
     "data": {
      "text/html": [
       "<div>\n",
       "<style scoped>\n",
       "    .dataframe tbody tr th:only-of-type {\n",
       "        vertical-align: middle;\n",
       "    }\n",
       "\n",
       "    .dataframe tbody tr th {\n",
       "        vertical-align: top;\n",
       "    }\n",
       "\n",
       "    .dataframe thead th {\n",
       "        text-align: right;\n",
       "    }\n",
       "</style>\n",
       "<table border=\"1\" class=\"dataframe\">\n",
       "  <thead>\n",
       "    <tr style=\"text-align: right;\">\n",
       "      <th></th>\n",
       "      <th>Delta</th>\n",
       "      <th>F1 Score (mean)</th>\n",
       "      <th>F1 Score (std)</th>\n",
       "      <th>Cross Val Output</th>\n",
       "    </tr>\n",
       "  </thead>\n",
       "  <tbody>\n",
       "    <tr>\n",
       "      <th>1ms</th>\n",
       "      <td>1ms</td>\n",
       "      <td>0.711687</td>\n",
       "      <td>0.004455</td>\n",
       "      <td>[[0.7106325706594886, 0.7178106774338269, 0.70...</td>\n",
       "    </tr>\n",
       "    <tr>\n",
       "      <th>10ms</th>\n",
       "      <td>10ms</td>\n",
       "      <td>0.711687</td>\n",
       "      <td>0.004455</td>\n",
       "      <td>[[0.7106325706594886, 0.7178106774338269, 0.70...</td>\n",
       "    </tr>\n",
       "    <tr>\n",
       "      <th>50ms</th>\n",
       "      <td>50ms</td>\n",
       "      <td>0.711687</td>\n",
       "      <td>0.004455</td>\n",
       "      <td>[[0.7106325706594886, 0.7178106774338269, 0.70...</td>\n",
       "    </tr>\n",
       "    <tr>\n",
       "      <th>100ms</th>\n",
       "      <td>100ms</td>\n",
       "      <td>0.711687</td>\n",
       "      <td>0.004455</td>\n",
       "      <td>[[0.7106325706594886, 0.7178106774338269, 0.70...</td>\n",
       "    </tr>\n",
       "    <tr>\n",
       "      <th>300ms</th>\n",
       "      <td>300ms</td>\n",
       "      <td>0.711687</td>\n",
       "      <td>0.004455</td>\n",
       "      <td>[[0.7106325706594886, 0.7178106774338269, 0.70...</td>\n",
       "    </tr>\n",
       "    <tr>\n",
       "      <th>500ms</th>\n",
       "      <td>500ms</td>\n",
       "      <td>0.711687</td>\n",
       "      <td>0.004455</td>\n",
       "      <td>[[0.7106325706594886, 0.7178106774338269, 0.70...</td>\n",
       "    </tr>\n",
       "    <tr>\n",
       "      <th>900ms</th>\n",
       "      <td>900ms</td>\n",
       "      <td>0.711687</td>\n",
       "      <td>0.004455</td>\n",
       "      <td>[[0.7106325706594886, 0.7178106774338269, 0.70...</td>\n",
       "    </tr>\n",
       "  </tbody>\n",
       "</table>\n",
       "</div>"
      ],
      "text/plain": [
       "       Delta  F1 Score (mean)  F1 Score (std)  \\\n",
       "1ms      1ms         0.711687        0.004455   \n",
       "10ms    10ms         0.711687        0.004455   \n",
       "50ms    50ms         0.711687        0.004455   \n",
       "100ms  100ms         0.711687        0.004455   \n",
       "300ms  300ms         0.711687        0.004455   \n",
       "500ms  500ms         0.711687        0.004455   \n",
       "900ms  900ms         0.711687        0.004455   \n",
       "\n",
       "                                        Cross Val Output  \n",
       "1ms    [[0.7106325706594886, 0.7178106774338269, 0.70...  \n",
       "10ms   [[0.7106325706594886, 0.7178106774338269, 0.70...  \n",
       "50ms   [[0.7106325706594886, 0.7178106774338269, 0.70...  \n",
       "100ms  [[0.7106325706594886, 0.7178106774338269, 0.70...  \n",
       "300ms  [[0.7106325706594886, 0.7178106774338269, 0.70...  \n",
       "500ms  [[0.7106325706594886, 0.7178106774338269, 0.70...  \n",
       "900ms  [[0.7106325706594886, 0.7178106774338269, 0.70...  "
      ]
     },
     "execution_count": 6,
     "metadata": {},
     "output_type": "execute_result"
    }
   ],
   "source": [
    "metrics"
   ]
  },
  {
   "cell_type": "code",
   "execution_count": 7,
   "metadata": {},
   "outputs": [],
   "source": [
    "metrics.to_csv(\"results_ms.csv\")"
   ]
  },
  {
   "cell_type": "code",
   "execution_count": 8,
   "metadata": {},
   "outputs": [
    {
     "name": "stdout",
     "output_type": "stream",
     "text": [
      ",Delta,F1 Score (mean),F1 Score (std),Cross Val Output\r\n",
      "1s,1s,0.7116871021724877,0.004455124498984987,\"[array([0.71063257, 0.71781068, 0.70451498, 0.71087055, 0.71460674])]\"\r\n",
      "5s,5s,0.7028181831267947,0.01029761714208972,\"[array([0.69482451, 0.68888889, 0.70215311, 0.71122011, 0.7170043 ])]\"\r\n",
      "20s,20s,0.6328360824404731,0.012944250879458427,\"[array([0.65199161, 0.6266531 , 0.61752988, 0.62411348, 0.64389234])]\"\r\n",
      "30s,30s,0.567365877152232,0.013684657134916891,\"[array([0.58563536, 0.54520167, 0.56368564, 0.56527591, 0.57703081])]\"\r\n",
      "40s,40s,0.5896291814974532,0.014747131823875161,\"[array([0.57757296, 0.59777424, 0.58282209, 0.61463415, 0.57534247])]\"\r\n",
      "50s,50s,0.5659127504037298,0.022483178836025703,\"[array([0.57093426, 0.53833605, 0.54362416, 0.5773913 , 0.59927798])]\"\r\n",
      "60s,60s,0.5116284166966183,0.018019733379785494,\"[array([0.5243129 , 0.53362256, 0.51804671, 0.48425197, 0.49790795])]\"\r\n"
     ]
    }
   ],
   "source": [
    "!cat results.csv"
   ]
  },
  {
   "cell_type": "code",
   "execution_count": null,
   "metadata": {},
   "outputs": [],
   "source": []
  }
 ],
 "metadata": {
  "kernelspec": {
   "display_name": "Python 3",
   "language": "python",
   "name": "python3"
  },
  "language_info": {
   "codemirror_mode": {
    "name": "ipython",
    "version": 3
   },
   "file_extension": ".py",
   "mimetype": "text/x-python",
   "name": "python",
   "nbconvert_exporter": "python",
   "pygments_lexer": "ipython3",
   "version": "3.7.3"
  }
 },
 "nbformat": 4,
 "nbformat_minor": 2
}
